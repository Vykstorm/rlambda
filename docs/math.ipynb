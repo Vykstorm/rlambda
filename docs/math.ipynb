{
 "cells": [
  {
   "cell_type": "markdown",
   "metadata": {
    "collapsed": true
   },
   "source": [
    "You can use the function helpers in the 'funcs' submodule to build more complex math functions"
   ]
  },
  {
   "cell_type": "code",
   "execution_count": 1,
   "metadata": {},
   "outputs": [
    {
     "name": "stdout",
     "output_type": "stream",
     "text": [
      "x, y : sin(x) ** 2 + cos(y) ** 2\n"
     ]
    },
    {
     "data": {
      "text/plain": [
       "1.0"
      ]
     },
     "execution_count": 1,
     "metadata": {},
     "output_type": "execute_result"
    }
   ],
   "source": [
    "from rlambda.funcs import sin, cos\n",
    "from rlambda.abc import x, y, pi\n",
    "f = sin(x) ** 2 + cos(y) ** 2\n",
    "print(f)\n",
    "f(pi, pi)"
   ]
  },
  {
   "cell_type": "markdown",
   "metadata": {},
   "source": [
    "You can use MathRLambdaFormatter class to print out lambda functions nicely as math expressions"
   ]
  },
  {
   "cell_type": "code",
   "execution_count": 2,
   "metadata": {},
   "outputs": [],
   "source": [
    "from rlambda import MathRLambdaFormatter, RLambda\n",
    "import builtins\n",
    "\n",
    "def print(x):\n",
    "    if isinstance(x, RLambda):\n",
    "        formatter = MathRLambdaFormatter()\n",
    "        builtins.print(formatter.format(x))\n",
    "    else:\n",
    "        builtins.print(x)"
   ]
  },
  {
   "cell_type": "code",
   "execution_count": 3,
   "metadata": {},
   "outputs": [
    {
     "name": "stdout",
     "output_type": "stream",
     "text": [
      "x, y : ⌊x / 2⌋ + √y\nx : (sin(x) + cos(x))² - 1\nx, y : |x + y| + 1\n"
     ]
    }
   ],
   "source": [
    "from rlambda.abc import x, y, z\n",
    "from rlambda.funcs import floor, sqrt, sin, cos\n",
    "\n",
    "f = floor(x / 2) + sqrt(y)\n",
    "print(f)\n",
    "g = (sin(x) + cos(x)) ** 2 - 1\n",
    "print(g)\n",
    "h = abs(x + y) + 1\n",
    "print(h)"
   ]
  },
  {
   "cell_type": "markdown",
   "metadata": {},
   "source": [
    "a, b, c and d variables will be printed with its corresponding greek letters"
   ]
  },
  {
   "cell_type": "code",
   "execution_count": 4,
   "metadata": {},
   "outputs": [
    {
     "name": "stdout",
     "output_type": "stream",
     "text": [
      "α : sin(α) × cos(α) × 2\nα, β, γ : √(tan(β, α) + cos(γ))\n"
     ]
    }
   ],
   "source": [
    "from rlambda.abc import a, b, c\n",
    "from rlambda.funcs import sin, cos, tan, sqrt\n",
    "\n",
    "f = sin(a) * cos(a) * 2\n",
    "print(f)\n",
    "g = sqrt(tan(b, a) + cos(c))\n",
    "print(g)"
   ]
  },
  {
   "cell_type": "markdown",
   "metadata": {},
   "source": [
    "There are also predefined variables called alpha, beta, gamma, ... which will be printed with the greek letter that its name indicates except pi."
   ]
  },
  {
   "cell_type": "code",
   "execution_count": 5,
   "metadata": {},
   "outputs": [
    {
     "name": "stdout",
     "output_type": "stream",
     "text": [
      "ω, φ : φ² + log₂(ω + 1)\n"
     ]
    }
   ],
   "source": [
    "from rlambda.abc import phi, omega\n",
    "from rlambda.funcs import log2\n",
    "\n",
    "f = phi ** 2 + log2(omega + 1)\n",
    "print(f)"
   ]
  },
  {
   "cell_type": "markdown",
   "metadata": {},
   "source": [
    "pi, tau and e are treated like mathematical constants, not variables..."
   ]
  },
  {
   "cell_type": "code",
   "execution_count": 6,
   "metadata": {},
   "outputs": [
    {
     "name": "stdout",
     "output_type": "stream",
     "text": [
      "α : cos(α + π) + sin(α - π) + e\n"
     ]
    },
    {
     "data": {
      "text/plain": [
       "1.7182818284590449"
      ]
     },
     "execution_count": 6,
     "metadata": {},
     "output_type": "execute_result"
    }
   ],
   "source": [
    "from rlambda.abc import a, pi, e\n",
    "from rlambda.funcs import sin, cos\n",
    "\n",
    "f = cos(a + pi) + sin(a - pi) + e\n",
    "print(f)\n",
    "f(0)\n"
   ]
  },
  {
   "cell_type": "markdown",
   "metadata": {},
   "source": [
    "More examples..."
   ]
  },
  {
   "cell_type": "code",
   "execution_count": 14,
   "metadata": {},
   "outputs": [
    {
     "name": "stdout",
     "output_type": "stream",
     "text": [
      "x, y : log₁₀(√(sin(x² + π) × cos(y² - π)) + 1)\nβ : 1 / (1 - β)\nγ, δ, ω, φ : γ² + δ² + ⌈φ / 2⌉ + ⌊ω / 2⌋\nυ, w, x, y, z : log₂(x × y) + log₁₀(z × w) + log (1 + υ)\n"
     ]
    }
   ],
   "source": [
    "from rlambda.abc import *\n",
    "from rlambda.funcs import sin, cos, log2, log10, log1p, ceil, floor, atan\n",
    "\n",
    "f = log10(sqrt(sin(x ** 2 + pi) * cos(y ** 2 - pi)) + 1)\n",
    "print(f)\n",
    "f = one / (one - b)\n",
    "print(f)\n",
    "f = c ** 2 + d ** 2 + ceil(phi / 2) + floor(omega / 2)\n",
    "print(f)\n",
    "f = log2(x * y) + log10(z * w) + log1p(upsilon)\n",
    "print(f)"
   ]
  },
  {
   "cell_type": "code",
   "execution_count": null,
   "metadata": {},
   "outputs": [],
   "source": []
  }
 ],
 "metadata": {
  "kernelspec": {
   "display_name": "Python 2",
   "language": "python",
   "name": "python2"
  },
  "language_info": {
   "codemirror_mode": {
    "name": "ipython",
    "version": 2
   },
   "file_extension": ".py",
   "mimetype": "text/x-python",
   "name": "python",
   "nbconvert_exporter": "python",
   "pygments_lexer": "ipython2",
   "version": "2.7.6"
  }
 },
 "nbformat": 4,
 "nbformat_minor": 0
}
