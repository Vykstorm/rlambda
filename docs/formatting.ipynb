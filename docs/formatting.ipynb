{
 "cells": [
  {
   "cell_type": "markdown",
   "metadata": {
    "collapsed": true
   },
   "source": [
    "As shown in the introduction section, rlambda objects can be printed nicely:"
   ]
  },
  {
   "cell_type": "code",
   "execution_count": 2,
   "metadata": {},
   "outputs": [
    {
     "name": "stdout",
     "output_type": "stream",
     "text": [
      "x, y, z : ((x + y) + z) // 2\n"
     ]
    }
   ],
   "source": [
    "from rlambda.abc import x, y, z\n",
    "\n",
    "f = (x + y + z) // 2\n",
    "print(f)"
   ]
  },
  {
   "cell_type": "markdown",
   "metadata": {},
   "source": [
    "This is because \\_\\_rep\\_\\_ and \\_\\_str\\_\\_ methods are provided in rlambda class.\n",
    "\n",
    "Internally they will use an instance of the class DefaultRLambdaFormatter to 'stringify' the rlambda object"
   ]
  },
  {
   "cell_type": "code",
   "execution_count": 5,
   "metadata": {},
   "outputs": [
    {
     "data": {
      "text/plain": [
       "'x, y, z : ((x * y) * z) // 2'"
      ]
     },
     "execution_count": 5,
     "metadata": {},
     "output_type": "execute_result"
    }
   ],
   "source": [
    "from rlambda import DefaultRLambdaFormatter\n",
    "\n",
    "formatter = DefaultRLambdaFormatter()\n",
    "f = x * y * z // 2\n",
    "formatter.format(f)"
   ]
  },
  {
   "cell_type": "markdown",
   "metadata": {},
   "source": [
    "The formatter class provides an additional method called format_body() which can be used to show only the body of the lambda function without its signature"
   ]
  },
  {
   "cell_type": "code",
   "execution_count": 6,
   "metadata": {},
   "outputs": [
    {
     "data": {
      "text/plain": [
       "'((x * y) * z) // 2'"
      ]
     },
     "execution_count": 6,
     "metadata": {},
     "output_type": "execute_result"
    }
   ],
   "source": [
    "formatter.format_body(f)"
   ]
  },
  {
   "cell_type": "markdown",
   "metadata": {},
   "source": [
    "You can print body of your lambda function when some input values are passed to it using format_body() and bind() methods"
   ]
  },
  {
   "cell_type": "code",
   "execution_count": 7,
   "metadata": {},
   "outputs": [
    {
     "data": {
      "text/plain": [
       "'((1 * 2) * 3) // 2'"
      ]
     },
     "execution_count": 7,
     "metadata": {},
     "output_type": "execute_result"
    }
   ],
   "source": [
    "from rlambda import bind\n",
    "\n",
    "formatter.format_body(bind(f, 1, 2, 3))"
   ]
  },
  {
   "cell_type": "markdown",
   "metadata": {},
   "source": [
    "You can create your own formatter with just subclassing RLambdaFormatter"
   ]
  },
  {
   "cell_type": "code",
   "execution_count": 10,
   "metadata": {},
   "outputs": [
    {
     "data": {
      "text/plain": [
       "'(x + 1) ^ 2 - 1'"
      ]
     },
     "execution_count": 10,
     "metadata": {},
     "output_type": "execute_result"
    }
   ],
   "source": [
    "from rlambda import RLambdaFormatter\n",
    "\n",
    "class MyFormatter(RLambdaFormatter):\n",
    "    def format_operator(self, op):\n",
    "        if op == '**':\n",
    "            return '^'\n",
    "        return super().format_operator(op)\n",
    "    \n",
    "    \n",
    "formatter = MyFormatter()\n",
    "\n",
    "f = (x + 1) ** 2 - 1\n",
    "\n",
    "formatter.format_body(f)"
   ]
  },
  {
   "cell_type": "markdown",
   "metadata": {},
   "source": [
    "In the code above, we just created a formatter which replaces the operator '**' used with pow operations with the symbol '^'"
   ]
  },
  {
   "cell_type": "markdown",
   "metadata": {},
   "source": [
    "In the next code, we display the bracket symbols {} to indicate high operation precedence instead of parentheses"
   ]
  },
  {
   "cell_type": "code",
   "execution_count": 12,
   "metadata": {},
   "outputs": [
    {
     "data": {
      "text/plain": [
       "'{{x + 1} * 2} // {y + 1}'"
      ]
     },
     "execution_count": 12,
     "metadata": {},
     "output_type": "execute_result"
    }
   ],
   "source": [
    "\n",
    "class MyFormatter(RLambdaFormatter):\n",
    "    def format_precedence(self, expr):\n",
    "        return '{' + expr + '}'\n",
    "    \n",
    "formatter = MyFormatter()\n",
    "\n",
    "\n",
    "f = (x + 1) * 2 // (y + 1)\n",
    "\n",
    "formatter.format_body(f)"
   ]
  },
  {
   "cell_type": "markdown",
   "metadata": {},
   "source": [
    "All instance methods prefixed by 'format_' except format_body() can be overrided to customize your formatter "
   ]
  },
  {
   "cell_type": "code",
   "execution_count": null,
   "metadata": {},
   "outputs": [],
   "source": []
  }
 ],
 "metadata": {
  "kernelspec": {
   "display_name": "Python 2",
   "language": "python",
   "name": "python2"
  },
  "language_info": {
   "codemirror_mode": {
    "name": "ipython",
    "version": 2
   },
   "file_extension": ".py",
   "mimetype": "text/x-python",
   "name": "python",
   "nbconvert_exporter": "python",
   "pygments_lexer": "ipython2",
   "version": "2.7.6"
  }
 },
 "nbformat": 4,
 "nbformat_minor": 0
}
