{
 "cells": [
  {
   "cell_type": "markdown",
   "metadata": {
    "collapsed": true
   },
   "source": [
    "The method bind() allows to replace function input arguments with specific values:"
   ]
  },
  {
   "cell_type": "code",
   "execution_count": 7,
   "metadata": {},
   "outputs": [
    {
     "name": "stdout",
     "output_type": "stream",
     "text": [
      "x, y : (x ** 2 + y ** 2) // 2\ny : (1 ** 2 + y ** 2) // 2\nx : (x ** 2 + 2 ** 2) // 2\n"
     ]
    }
   ],
   "source": [
    "from rlambda.abc import x, y\n",
    "from rlambda import bind\n",
    "\n",
    "f = (x ** 2 + y ** 2) // 2\n",
    "print(f)\n",
    "g = bind(f, x=1)\n",
    "h = bind(f, y=2)\n",
    "print(g)\n",
    "print(h)"
   ]
  },
  {
   "cell_type": "markdown",
   "metadata": {},
   "source": [
    "g and h are the result of this binding process. They are also rlambda class instances.\n",
    "g will have only the input 'y' because 'x' was binded with the value 1 and h will have as well only one parameter, in this case 'x' because 'y' was replaced by the value 2\n",
    "\n",
    "The next expressions give us the same results:"
   ]
  },
  {
   "cell_type": "code",
   "execution_count": 9,
   "metadata": {},
   "outputs": [
    {
     "name": "stdout",
     "output_type": "stream",
     "text": [
      "2 2 2\n"
     ]
    }
   ],
   "source": [
    "print(f(1, 2), g(2), h(1))"
   ]
  },
  {
   "cell_type": "code",
   "execution_count": null,
   "metadata": {},
   "outputs": [],
   "source": []
  }
 ],
 "metadata": {
  "kernelspec": {
   "display_name": "Python 2",
   "language": "python",
   "name": "python2"
  },
  "language_info": {
   "codemirror_mode": {
    "name": "ipython",
    "version": 2
   },
   "file_extension": ".py",
   "mimetype": "text/x-python",
   "name": "python",
   "nbconvert_exporter": "python",
   "pygments_lexer": "ipython2",
   "version": "2.7.6"
  }
 },
 "nbformat": 4,
 "nbformat_minor": 0
}
