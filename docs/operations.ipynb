{
 "cells": [
  {
   "cell_type": "markdown",
   "metadata": {
    "collapsed": true
   },
   "source": [
    "You can build rlambda objects using any python arithmetic, comparision and bitwise operators. Here are some examples..."
   ]
  },
  {
   "cell_type": "code",
   "execution_count": 1,
   "metadata": {},
   "outputs": [],
   "source": [
    "from rlambda.abc import x, y, z"
   ]
  },
  {
   "cell_type": "code",
   "execution_count": 6,
   "metadata": {},
   "outputs": [
    {
     "name": "stdout",
     "output_type": "stream",
     "text": [
      "x, y, z : (x + 1) + (y - 1) / z\nx, y, z : (x % 2) // y + z ** 2\n"
     ]
    }
   ],
   "source": [
    "print((x + 1) + (y - 1) / z)\n",
    "print((x % 2) // y + z ** 2)"
   ]
  },
  {
   "cell_type": "code",
   "execution_count": 11,
   "metadata": {},
   "outputs": [
    {
     "name": "stdout",
     "output_type": "stream",
     "text": [
      "x, y : (x + 1) ** 2 > y * 2\nx, y : x != y\nx, y : y == x ** 2\n"
     ]
    }
   ],
   "source": [
    "print((x + 1) ** 2 > (y * 2))\n",
    "print(x != y)\n",
    "print(x ** 2 == y)"
   ]
  },
  {
   "cell_type": "code",
   "execution_count": 22,
   "metadata": {},
   "outputs": [
    {
     "name": "stdout",
     "output_type": "stream",
     "text": [
      "x, y, z : (x > y) & (y > z)\nx, y : (x < 0) | (y < 0)\nx, y : ~(x > 0) ^ ~(y > 0)\nx, y : (x << 1) + (y >> 1)\n"
     ]
    }
   ],
   "source": [
    "print((x > y) & (y > z))\n",
    "print((x < 0) | (y < 0))\n",
    "print(~(x > 0) ^ ~(y > 0))\n",
    "print((x << 1) + (y >> 1))"
   ]
  },
  {
   "cell_type": "markdown",
   "metadata": {},
   "source": [
    "You can use subscripting and indexing operations..."
   ]
  },
  {
   "cell_type": "code",
   "execution_count": 18,
   "metadata": {},
   "outputs": [
    {
     "name": "stdout",
     "output_type": "stream",
     "text": [
      "x, y : x[2:] + y[:2]\nx, y : x[::2] + y[1::2]\nx : x[1, 0:2]\n"
     ]
    }
   ],
   "source": [
    "print(x[2:] + y[:2])\n",
    "print(x[::2] + y[1::2])\n",
    "print(x[1, 0:2])"
   ]
  },
  {
   "cell_type": "code",
   "execution_count": null,
   "metadata": {},
   "outputs": [
    {
     "name": "stdout",
     "output_type": "stream",
     "text": [
      "x : x.imag ** 2 + x.real * 2\n"
     ]
    },
    {
     "data": {
      "text/plain": [
       "6.0"
      ]
     },
     "execution_count": 21,
     "metadata": {},
     "output_type": "execute_result"
    }
   ],
   "source": [
    "f = x.imag ** 2 + x.real * 2\n",
    "print(f)\n",
    "f(complex(1, 2))"
   ]
  },
  {
   "cell_type": "code",
   "execution_count": null,
   "metadata": {},
   "outputs": [],
   "source": [
    ""
   ]
  }
 ],
 "metadata": {
  "kernelspec": {
   "display_name": "Python 2",
   "language": "python",
   "name": "python2"
  },
  "language_info": {
   "codemirror_mode": {
    "name": "ipython",
    "version": 2
   },
   "file_extension": ".py",
   "mimetype": "text/x-python",
   "name": "python",
   "nbconvert_exporter": "python",
   "pygments_lexer": "ipython2",
   "version": "2.7.6"
  }
 },
 "nbformat": 4,
 "nbformat_minor": 0
}
